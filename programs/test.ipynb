{
 "cells": [
  {
   "cell_type": "code",
   "execution_count": 20,
   "id": "58456cf0-1b4c-43a1-997a-2b8a7f315a1d",
   "metadata": {},
   "outputs": [],
   "source": [
    "class TaskData:\n",
    "    def __init__(self, **kwargs):\n",
    "        self.projectDir = None\n",
    "        self.projectCfg = None\n",
    "\n",
    "        self.dataMembers = set(self.__dict__)\n",
    "\n",
    "        assigned = set()\n",
    "\n",
    "        for k, v in kwargs.items():\n",
    "            if k in self.dataMembers:\n",
    "                setattr(self, k, v)\n",
    "                assigned.add(k)\n",
    "            else:\n",
    "                print(f\"WARNING: invalid attribute name '{k}' set to: {v}\")\n",
    "\n",
    "        for k in self.dataMembers:\n",
    "            if k not in assigned:\n",
    "                print(f\"WARNING: unassigned attribute '{k}'\")\n",
    "\n",
    "    def readStatus(self):\n",
    "        pass"
   ]
  },
  {
   "cell_type": "code",
   "execution_count": 21,
   "id": "d98abaf7-fd31-43f5-9e38-6c2336afa3cd",
   "metadata": {},
   "outputs": [
    {
     "name": "stdout",
     "output_type": "stream",
     "text": [
      "WARNING: invalid attribute name 'title' set to: noot\n",
      "WARNING: invalid attribute name 'projectDr' set to: mies\n",
      "WARNING: unassigned attribute 'projectDir'\n"
     ]
    }
   ],
   "source": [
    "T = TaskData(projectCfg=\"aap\", title=\"noot\", projectDr=\"mies\")"
   ]
  },
  {
   "cell_type": "code",
   "execution_count": 4,
   "id": "bf945d31-fe7d-44ba-a3e4-493ede8cbe93",
   "metadata": {},
   "outputs": [],
   "source": [
    "class TaskData:\n",
    "    def __init__(self):\n",
    "        self.projectDir = None\n",
    "        self.projectCfg = None\n",
    "        self.title = None\n",
    "        self.actor = None\n",
    "        self.lowLevel = None\n",
    "        self.backend = None\n",
    "        self.editOrg = None\n",
    "        self.schemaRepo = None\n",
    "        self.schemaDir = None\n",
    "        self.dataRepoSuffix = None\n",
    "        self.cfgRepoSuffix = None\n",
    "        self.stepAttributes = frozenset(self.__dict__)\n",
    "\n"
   ]
  },
  {
   "cell_type": "code",
   "execution_count": 5,
   "id": "c6e1ec01-eed4-4e9b-b3e4-913ea7ec86c3",
   "metadata": {},
   "outputs": [],
   "source": [
    "T = TaskData()"
   ]
  },
  {
   "cell_type": "code",
   "execution_count": 6,
   "id": "be0d8404-e79a-4aa4-93ea-7a45b43533cc",
   "metadata": {},
   "outputs": [
    {
     "data": {
      "text/plain": [
       "frozenset({'actor',\n",
       "           'backend',\n",
       "           'cfgRepoSuffix',\n",
       "           'dataRepoSuffix',\n",
       "           'editOrg',\n",
       "           'lowLevel',\n",
       "           'projectCfg',\n",
       "           'projectDir',\n",
       "           'schemaDir',\n",
       "           'schemaRepo',\n",
       "           'title'})"
      ]
     },
     "execution_count": 6,
     "metadata": {},
     "output_type": "execute_result"
    }
   ],
   "source": [
    "T.stepAttributes"
   ]
  },
  {
   "cell_type": "code",
   "execution_count": 9,
   "id": "b0136d08-8ada-40cd-b5a1-968c33f3c00e",
   "metadata": {},
   "outputs": [],
   "source": [
    "from datetime import datetime as dt\n",
    "from bson.objectid import ObjectId\n",
    "\n",
    "from ti.kit.generic import attrDictFactory\n",
    "\n",
    "def deepHandler(info):\n",
    "    if isinstance(info, dt):\n",
    "        return info.isoformat()\n",
    "\n",
    "    if isinstance(info, ObjectId):\n",
    "        return str(info)\n",
    "\n",
    "    return None"
   ]
  },
  {
   "cell_type": "code",
   "execution_count": 10,
   "id": "e31e01c5-65c5-433b-b827-5c6106c8d289",
   "metadata": {},
   "outputs": [],
   "source": [
    "AttrDict = attrDictFactory(deepHandler)"
   ]
  },
  {
   "cell_type": "code",
   "execution_count": 11,
   "id": "704e64ab-6786-49d2-a6c0-16c7e84e16c2",
   "metadata": {},
   "outputs": [
    {
     "data": {
      "text/plain": [
       "ti.kit.generic.attrDictFactory.<locals>.AttrDict"
      ]
     },
     "execution_count": 11,
     "metadata": {},
     "output_type": "execute_result"
    }
   ],
   "source": [
    "AttrDict"
   ]
  },
  {
   "cell_type": "code",
   "execution_count": 12,
   "id": "7acbd5dc-8eb7-4760-8a10-e0af78ffba47",
   "metadata": {},
   "outputs": [],
   "source": [
    "x = AttrDict(aap=\"1\", noot=\"2\")"
   ]
  },
  {
   "cell_type": "code",
   "execution_count": 13,
   "id": "65d1e147-1541-430d-a411-30c80410804d",
   "metadata": {},
   "outputs": [
    {
     "data": {
      "text/plain": [
       "{'aap': '1', 'noot': '2'}"
      ]
     },
     "execution_count": 13,
     "metadata": {},
     "output_type": "execute_result"
    }
   ],
   "source": [
    "x"
   ]
  },
  {
   "cell_type": "code",
   "execution_count": 14,
   "id": "5784d695-0eda-455f-8627-6d94e43209eb",
   "metadata": {},
   "outputs": [
    {
     "data": {
      "text/plain": [
       "'1'"
      ]
     },
     "execution_count": 14,
     "metadata": {},
     "output_type": "execute_result"
    }
   ],
   "source": [
    "x.aap"
   ]
  },
  {
   "cell_type": "code",
   "execution_count": 15,
   "id": "e94ae67b-6ac2-4a69-92bf-620b4ce7d407",
   "metadata": {},
   "outputs": [
    {
     "data": {
      "text/plain": [
       "datetime.datetime(2025, 10, 7, 13, 58, 14, 182909)"
      ]
     },
     "execution_count": 15,
     "metadata": {},
     "output_type": "execute_result"
    }
   ],
   "source": [
    "dt.now()"
   ]
  },
  {
   "cell_type": "code",
   "execution_count": 16,
   "id": "9764758a-181a-460b-aa77-48542a581229",
   "metadata": {},
   "outputs": [],
   "source": [
    "x = AttrDict(now=dt.now())"
   ]
  },
  {
   "cell_type": "code",
   "execution_count": 17,
   "id": "ece5e2da-2d4e-496c-9fdc-e1eb174b9955",
   "metadata": {},
   "outputs": [
    {
     "data": {
      "text/plain": [
       "{'now': datetime.datetime(2025, 10, 7, 13, 58, 42, 950515)}"
      ]
     },
     "execution_count": 17,
     "metadata": {},
     "output_type": "execute_result"
    }
   ],
   "source": [
    "x"
   ]
  },
  {
   "cell_type": "code",
   "execution_count": 18,
   "id": "313fca60-20c6-4623-9485-7902116798ca",
   "metadata": {},
   "outputs": [
    {
     "ename": "NameError",
     "evalue": "name 'deepDict' is not defined",
     "output_type": "error",
     "traceback": [
      "\u001b[0;31m---------------------------------------------------------------------------\u001b[0m",
      "\u001b[0;31mNameError\u001b[0m                                 Traceback (most recent call last)",
      "Cell \u001b[0;32mIn[18], line 1\u001b[0m\n\u001b[0;32m----> 1\u001b[0m \u001b[43mdeepDict\u001b[49m(x)\n",
      "\u001b[0;31mNameError\u001b[0m: name 'deepDict' is not defined"
     ]
    }
   ],
   "source": [
    "deepDict(x)"
   ]
  },
  {
   "cell_type": "code",
   "execution_count": 19,
   "id": "48160f23-13f3-4423-9de3-7c765f644e97",
   "metadata": {},
   "outputs": [
    {
     "data": {
      "text/plain": [
       "{'now': '2025-10-07T13:58:42.950515'}"
      ]
     },
     "execution_count": 19,
     "metadata": {},
     "output_type": "execute_result"
    }
   ],
   "source": [
    "x.deepdict()"
   ]
  },
  {
   "cell_type": "code",
   "execution_count": 20,
   "id": "d888537a-7d32-4a90-b26a-6f03531efb37",
   "metadata": {},
   "outputs": [
    {
     "data": {
      "text/plain": [
       "ti.kit.generic.attrDictFactory.<locals>.AttrDict"
      ]
     },
     "execution_count": 20,
     "metadata": {},
     "output_type": "execute_result"
    }
   ],
   "source": [
    "type(x)"
   ]
  },
  {
   "cell_type": "code",
   "execution_count": 21,
   "id": "6b2705e9-b5ac-4f2e-b10a-b616056701f0",
   "metadata": {},
   "outputs": [],
   "source": [
    "AD = type(x)"
   ]
  },
  {
   "cell_type": "code",
   "execution_count": 22,
   "id": "69e1be7d-bd26-41bf-875e-b95a8be5528b",
   "metadata": {},
   "outputs": [],
   "source": [
    "y = AD(now=dt.now())"
   ]
  },
  {
   "cell_type": "code",
   "execution_count": 23,
   "id": "1551995b-45e0-49ec-82a8-84e91f2b9773",
   "metadata": {},
   "outputs": [
    {
     "data": {
      "text/plain": [
       "{'now': '2025-10-07T14:20:34.457937'}"
      ]
     },
     "execution_count": 23,
     "metadata": {},
     "output_type": "execute_result"
    }
   ],
   "source": [
    "y.deepdict()"
   ]
  },
  {
   "cell_type": "code",
   "execution_count": null,
   "id": "b0402489-f26b-432c-87f3-e2a19bc1cea9",
   "metadata": {},
   "outputs": [],
   "source": []
  }
 ],
 "metadata": {
  "kernelspec": {
   "display_name": "Python 3 (ipykernel)",
   "language": "python",
   "name": "python3"
  },
  "language_info": {
   "codemirror_mode": {
    "name": "ipython",
    "version": 3
   },
   "file_extension": ".py",
   "mimetype": "text/x-python",
   "name": "python",
   "nbconvert_exporter": "python",
   "pygments_lexer": "ipython3",
   "version": "3.13.5"
  }
 },
 "nbformat": 4,
 "nbformat_minor": 5
}
