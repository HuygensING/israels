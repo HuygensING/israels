{
 "cells": [
  {
   "cell_type": "code",
   "execution_count": 20,
   "id": "58456cf0-1b4c-43a1-997a-2b8a7f315a1d",
   "metadata": {},
   "outputs": [],
   "source": [
    "class TaskData:\n",
    "    def __init__(self, **kwargs):\n",
    "        self.projectDir = None\n",
    "        self.projectCfg = None\n",
    "\n",
    "        self.dataMembers = set(self.__dict__)\n",
    "\n",
    "        assigned = set()\n",
    "\n",
    "        for k, v in kwargs.items():\n",
    "            if k in self.dataMembers:\n",
    "                setattr(self, k, v)\n",
    "                assigned.add(k)\n",
    "            else:\n",
    "                print(f\"WARNING: invalid attribute name '{k}' set to: {v}\")\n",
    "\n",
    "        for k in self.dataMembers:\n",
    "            if k not in assigned:\n",
    "                print(f\"WARNING: unassigned attribute '{k}'\")\n",
    "\n",
    "    def readStatus(self):\n",
    "        pass"
   ]
  },
  {
   "cell_type": "code",
   "execution_count": 21,
   "id": "d98abaf7-fd31-43f5-9e38-6c2336afa3cd",
   "metadata": {},
   "outputs": [
    {
     "name": "stdout",
     "output_type": "stream",
     "text": [
      "WARNING: invalid attribute name 'title' set to: noot\n",
      "WARNING: invalid attribute name 'projectDr' set to: mies\n",
      "WARNING: unassigned attribute 'projectDir'\n"
     ]
    }
   ],
   "source": [
    "T = TaskData(projectCfg=\"aap\", title=\"noot\", projectDr=\"mies\")"
   ]
  },
  {
   "cell_type": "code",
   "execution_count": 4,
   "id": "bf945d31-fe7d-44ba-a3e4-493ede8cbe93",
   "metadata": {},
   "outputs": [],
   "source": [
    "class TaskData:\n",
    "    def __init__(self):\n",
    "        self.projectDir = None\n",
    "        self.projectCfg = None\n",
    "        self.title = None\n",
    "        self.actor = None\n",
    "        self.lowLevel = None\n",
    "        self.backend = None\n",
    "        self.editOrg = None\n",
    "        self.schemaRepo = None\n",
    "        self.schemaDir = None\n",
    "        self.dataRepoSuffix = None\n",
    "        self.cfgRepoSuffix = None\n",
    "        self.stepAttributes = frozenset(self.__dict__)\n",
    "\n"
   ]
  },
  {
   "cell_type": "code",
   "execution_count": 5,
   "id": "c6e1ec01-eed4-4e9b-b3e4-913ea7ec86c3",
   "metadata": {},
   "outputs": [],
   "source": [
    "T = TaskData()"
   ]
  },
  {
   "cell_type": "code",
   "execution_count": 6,
   "id": "be0d8404-e79a-4aa4-93ea-7a45b43533cc",
   "metadata": {},
   "outputs": [
    {
     "data": {
      "text/plain": [
       "frozenset({'actor',\n",
       "           'backend',\n",
       "           'cfgRepoSuffix',\n",
       "           'dataRepoSuffix',\n",
       "           'editOrg',\n",
       "           'lowLevel',\n",
       "           'projectCfg',\n",
       "           'projectDir',\n",
       "           'schemaDir',\n",
       "           'schemaRepo',\n",
       "           'title'})"
      ]
     },
     "execution_count": 6,
     "metadata": {},
     "output_type": "execute_result"
    }
   ],
   "source": [
    "T.stepAttributes"
   ]
  },
  {
   "cell_type": "code",
   "execution_count": null,
   "id": "609434e7-ab9c-4eac-b11e-8e764cab7da5",
   "metadata": {},
   "outputs": [],
   "source": []
  }
 ],
 "metadata": {
  "kernelspec": {
   "display_name": "Python 3 (ipykernel)",
   "language": "python",
   "name": "python3"
  },
  "language_info": {
   "codemirror_mode": {
    "name": "ipython",
    "version": 3
   },
   "file_extension": ".py",
   "mimetype": "text/x-python",
   "name": "python",
   "nbconvert_exporter": "python",
   "pygments_lexer": "ipython3",
   "version": "3.13.5"
  }
 },
 "nbformat": 4,
 "nbformat_minor": 5
}
