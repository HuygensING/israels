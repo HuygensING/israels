{
 "cells": [
  {
   "cell_type": "code",
   "execution_count": 1,
   "id": "ed2399a1-49c2-4182-b36f-bc33f4089208",
   "metadata": {},
   "outputs": [],
   "source": [
    "%load_ext autoreload\n",
    "%autoreload 2"
   ]
  },
  {
   "cell_type": "code",
   "execution_count": 2,
   "id": "e6a6b613-0ed1-485a-83c8-e6ab7dec6ebe",
   "metadata": {},
   "outputs": [],
   "source": [
    "from ti.kit.helpers import run"
   ]
  },
  {
   "cell_type": "code",
   "execution_count": 12,
   "id": "833050cd-db99-4753-bd4d-4d3a2dd6a0bb",
   "metadata": {},
   "outputs": [
    {
     "data": {
      "text/plain": [
       "(True, 0, '', '')"
      ]
     },
     "execution_count": 12,
     "metadata": {},
     "output_type": "execute_result"
    }
   ],
   "source": [
    "run(f\"ls -l ../tei/2025-10-07/letters | grep ii015 >letters.txt\", workDir=\"../_temp\")"
   ]
  },
  {
   "cell_type": "code",
   "execution_count": null,
   "id": "b14c5fea-2307-4bb6-9901-c7ac8b470b22",
   "metadata": {},
   "outputs": [],
   "source": []
  }
 ],
 "metadata": {
  "kernelspec": {
   "display_name": "Python 3 (ipykernel)",
   "language": "python",
   "name": "python3"
  },
  "language_info": {
   "codemirror_mode": {
    "name": "ipython",
    "version": 3
   },
   "file_extension": ".py",
   "mimetype": "text/x-python",
   "name": "python",
   "nbconvert_exporter": "python",
   "pygments_lexer": "ipython3",
   "version": "3.13.5"
  }
 },
 "nbformat": 4,
 "nbformat_minor": 5
}
