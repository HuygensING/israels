{
 "cells": [
  {
   "cell_type": "code",
   "execution_count": 1,
   "id": "ed2399a1-49c2-4182-b36f-bc33f4089208",
   "metadata": {},
   "outputs": [],
   "source": [
    "%load_ext autoreload\n",
    "%autoreload 2"
   ]
  },
  {
   "cell_type": "code",
   "execution_count": 4,
   "id": "e6a6b613-0ed1-485a-83c8-e6ab7dec6ebe",
   "metadata": {},
   "outputs": [],
   "source": [
    "from ti.kit.repo import downloadZip"
   ]
  },
  {
   "cell_type": "code",
   "execution_count": 14,
   "id": "3c0cd2a8-eaad-4b88-8c8a-4cd68c028006",
   "metadata": {},
   "outputs": [],
   "source": [
    "dest = \"/Users/me/Downloads/test\""
   ]
  },
  {
   "cell_type": "code",
   "execution_count": 21,
   "id": "833050cd-db99-4753-bd4d-4d3a2dd6a0bb",
   "metadata": {},
   "outputs": [
    {
     "name": "stdout",
     "output_type": "stream",
     "text": [
      "v3.1/complete.zip downloaded having 49950 bytes\n"
     ]
    },
    {
     "data": {
      "text/plain": [
       "True"
      ]
     },
     "execution_count": 21,
     "metadata": {},
     "output_type": "execute_result"
    }
   ],
   "source": [
    "downloadZip(\"annotation\", \"banks\", \"v3.1\", \"complete\", dest, force=True, verbose=True)"
   ]
  },
  {
   "cell_type": "code",
   "execution_count": 10,
   "id": "b14c5fea-2307-4bb6-9901-c7ac8b470b22",
   "metadata": {},
   "outputs": [],
   "source": [
    "import pickle\n",
    "import pickletools\n",
    "import sys"
   ]
  },
  {
   "cell_type": "code",
   "execution_count": 6,
   "id": "15ac968d-bac4-43e1-a438-237f2bb628b7",
   "metadata": {},
   "outputs": [],
   "source": [
    "x = {}\n",
    "\n",
    "for i in range(1, 1000000):\n",
    "    x[i] = f\"ii{i:>07}\""
   ]
  },
  {
   "cell_type": "code",
   "execution_count": 7,
   "id": "d3eeb705-9c4d-4e43-9896-b90e32310fe3",
   "metadata": {},
   "outputs": [],
   "source": [
    "picklefile = \"/Users/me/Downloads/pickled\""
   ]
  },
  {
   "cell_type": "code",
   "execution_count": 9,
   "id": "19b1cd6f-6366-43f2-96fa-4dca6fbe0e9c",
   "metadata": {},
   "outputs": [],
   "source": [
    "with open(picklefile, \"wb\") as fh:\n",
    "    pickle.dump(x, fh, protocol=4)"
   ]
  },
  {
   "cell_type": "code",
   "execution_count": 11,
   "id": "f18bc0ee-29e4-418e-bd4c-eb81b1c83e80",
   "metadata": {},
   "outputs": [
    {
     "data": {
      "text/plain": [
       "'3.13.5 (v3.13.5:6cb20a219a8, Jun 11 2025, 12:23:45) [Clang 16.0.0 (clang-1600.0.26.6)]'"
      ]
     },
     "execution_count": 11,
     "metadata": {},
     "output_type": "execute_result"
    }
   ],
   "source": [
    "sys.version"
   ]
  },
  {
   "cell_type": "code",
   "execution_count": 12,
   "id": "21ccc8b5-2909-44ec-9c69-7a8589162cee",
   "metadata": {},
   "outputs": [],
   "source": [
    "with open(picklefile, \"rb\") as fh:\n",
    "    p = fh.read()\n",
    "    \n",
    "s = pickletools.optimize(p)"
   ]
  },
  {
   "cell_type": "code",
   "execution_count": 1,
   "id": "df6bd2ea-c683-4dc3-80b2-41ad16dd992e",
   "metadata": {},
   "outputs": [],
   "source": [
    "x = dict(aap=\"noot\", good=True)"
   ]
  },
  {
   "cell_type": "code",
   "execution_count": 2,
   "id": "4056c3fc-2245-4020-8143-6a5abd5b1368",
   "metadata": {},
   "outputs": [
    {
     "data": {
      "text/plain": [
       "{'aap': 'noot', 'good': True}"
      ]
     },
     "execution_count": 2,
     "metadata": {},
     "output_type": "execute_result"
    }
   ],
   "source": [
    "x"
   ]
  },
  {
   "cell_type": "code",
   "execution_count": 3,
   "id": "2c9406ce-2681-4e7c-90d6-631d35ed6285",
   "metadata": {},
   "outputs": [],
   "source": [
    "from ti.kit.files import writeJson"
   ]
  },
  {
   "cell_type": "code",
   "execution_count": 4,
   "id": "87c86825-ea92-47c9-b23f-55e1c02d8e31",
   "metadata": {},
   "outputs": [],
   "source": [
    "y = writeJson(x)"
   ]
  },
  {
   "cell_type": "code",
   "execution_count": 5,
   "id": "881a54d6-98bb-4b67-b3a4-705216d1b823",
   "metadata": {},
   "outputs": [
    {
     "data": {
      "text/plain": [
       "'{\\n \"aap\": \"noot\",\\n \"good\": true\\n}'"
      ]
     },
     "execution_count": 5,
     "metadata": {},
     "output_type": "execute_result"
    }
   ],
   "source": [
    "y"
   ]
  },
  {
   "cell_type": "code",
   "execution_count": 6,
   "id": "4fa2425c-d072-4f3a-84ba-338edb4ef3d9",
   "metadata": {},
   "outputs": [
    {
     "name": "stdout",
     "output_type": "stream",
     "text": [
      "{\n",
      " \"aap\": \"noot\",\n",
      " \"good\": true\n",
      "}\n"
     ]
    }
   ],
   "source": [
    "print(y)"
   ]
  },
  {
   "cell_type": "code",
   "execution_count": null,
   "id": "a8981df1-8ad5-4e9e-a04c-ca064388f1e0",
   "metadata": {},
   "outputs": [],
   "source": []
  }
 ],
 "metadata": {
  "kernelspec": {
   "display_name": "Python 3 (ipykernel)",
   "language": "python",
   "name": "python3"
  },
  "language_info": {
   "codemirror_mode": {
    "name": "ipython",
    "version": 3
   },
   "file_extension": ".py",
   "mimetype": "text/x-python",
   "name": "python",
   "nbconvert_exporter": "python",
   "pygments_lexer": "ipython3",
   "version": "3.13.5"
  }
 },
 "nbformat": 4,
 "nbformat_minor": 5
}
