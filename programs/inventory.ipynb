{
 "cells": [
  {
   "cell_type": "markdown",
   "id": "fe2f175b-03c2-40d5-a556-5e110ce632d1",
   "metadata": {
    "editable": true,
    "slideshow": {
     "slide_type": ""
    },
    "tags": []
   },
   "source": [
    "# Get info from the xml\n",
    "\n",
    "We check the validity, make an inventory of elements and attributes.\n",
    "\n",
    "We collect page sequences with the scans and regions that pages identify.\n",
    "\n",
    "We generate IIIF manifests for the scans."
   ]
  },
  {
   "cell_type": "code",
   "execution_count": 1,
   "id": "ed2399a1-49c2-4182-b36f-bc33f4089208",
   "metadata": {},
   "outputs": [],
   "source": [
    "%load_ext autoreload\n",
    "%autoreload 2"
   ]
  },
  {
   "cell_type": "code",
   "execution_count": 2,
   "id": "f28f1de2-05e6-4586-a1a5-5559f2f3b220",
   "metadata": {},
   "outputs": [],
   "source": [
    "from ti.info.tei import TEI\n",
    "from ti.info.scans import Scans"
   ]
  },
  {
   "cell_type": "code",
   "execution_count": 3,
   "id": "0e20f559-c1da-4ca2-a812-205619b81c98",
   "metadata": {},
   "outputs": [],
   "source": [
    "BASE = \"../newPipeline/israels\""
   ]
  },
  {
   "cell_type": "markdown",
   "id": "5415a7dc-6d71-4a15-84fe-76ceb4579678",
   "metadata": {},
   "source": [
    "# Step 0: Scan ingest"
   ]
  },
  {
   "cell_type": "markdown",
   "id": "1a84a8b5-c491-4606-9d84-41eef3ba6259",
   "metadata": {},
   "source": [
    "To convert a directory with `.jpf` files to `.jpg` files do\n",
    "\n",
    "```\n",
    "cd directory\n",
    "mogrify -format jpg *.jpf\n",
    "```"
   ]
  },
  {
   "cell_type": "code",
   "execution_count": 4,
   "id": "85442291-e2e1-4603-8e57-0b07c075c70a",
   "metadata": {},
   "outputs": [
    {
     "name": "stdout",
     "output_type": "stream",
     "text": [
      "Source dir = ../scans\n",
      "scanprep settings read from ../newPipeline/israels/config/scans.yml\n"
     ]
    }
   ],
   "source": [
    "SC = Scans(\"../scans\", f\"{BASE}/config/scans.yml\", verbose=1, force=False)"
   ]
  },
  {
   "cell_type": "code",
   "execution_count": 5,
   "id": "fb1768f6-cfdf-4dc0-a544-4e4cd0d3502a",
   "metadata": {},
   "outputs": [
    {
     "name": "stdout",
     "output_type": "stream",
     "text": [
      "Initialized ../newPipeline/israels/scanInfo\n",
      "srcSubDirs=('illustrations', 'logo', 'pages')\n",
      "illustrations:\n",
      "\tAlready present: sizes and colorspaces files (illustrations)\n",
      "\tscans: 73\n",
      "logo:\n",
      "pages:\n",
      "\tAlready present: sizes and colorspaces files (pages)\n",
      "\tscans: 263\n"
     ]
    }
   ],
   "source": [
    "SC.process(f\"{BASE}/scanInfo\", force=None)"
   ]
  },
  {
   "cell_type": "code",
   "execution_count": 6,
   "id": "a4b137c7-60db-4a73-8180-882130a29075",
   "metadata": {},
   "outputs": [
    {
     "name": "stdout",
     "output_type": "stream",
     "text": [
      "Initialized ../newPipeline/israels/scanInfo\n",
      "srcSubDirs=('illustrations', 'logo', 'pages')\n",
      "illustrations:\n",
      "\t\tGet attributes of 73 scans (illustrations)\n",
      "\t\t\t100% done\n",
      "\tscans: 73\n",
      "logo:\n",
      "pages:\n",
      "\t\tGet attributes of 264 scans (pages)\n",
      "\t\t\t 38% done\n",
      "\t\t\t 76% done\n",
      "\t\t\t100% done\n",
      "\tscans: 263\n"
     ]
    }
   ],
   "source": [
    "SC.process(f\"{BASE}/scanInfo\", force=True)"
   ]
  },
  {
   "cell_type": "markdown",
   "id": "d3ccdd7e-6a97-4ade-bcc4-c3440a3b5284",
   "metadata": {},
   "source": [
    "# Step 1: Inventory"
   ]
  },
  {
   "cell_type": "code",
   "execution_count": 7,
   "id": "3924f2ea-8a1b-45c1-9814-4d4c14373bc2",
   "metadata": {},
   "outputs": [
    {
     "name": "stdout",
     "output_type": "stream",
     "text": [
      "section model is I\n"
     ]
    }
   ],
   "source": [
    "Tei = TEI(\"../tei/2025-07-09\", f\"{BASE}/config/tei.yml\", verbose=0)"
   ]
  },
  {
   "cell_type": "code",
   "execution_count": 8,
   "id": "e5abba52-fb30-4925-8f66-d24905119c1f",
   "metadata": {},
   "outputs": [
    {
     "name": "stdout",
     "output_type": "stream",
     "text": [
      "TEI to TF checking: ../tei/2025-07-09 => ../newPipeline/israels/report\n",
      "Processing instructions are treated\n",
      "XML validation will be performed\n",
      "Analysing ~/github/annotation/textinfo/ti/tools/tei/tei_all.xsd\n",
      "\tround   1: 232 changes\n",
      "Analysing ~/github/annotation/textinfo/ti/tools/tei/tei_all.xsd\n",
      "\tround   1: 232 changes\n",
      "Analysing ../schema/editem-about.xsd\n",
      "\tround   1:  52 changes\n",
      "118 identical override(s)\n",
      "  0 changing override(s)\n",
      "INFO: Needs editem.xsd (exists)\n",
      "Analysing ~/github/annotation/textinfo/ti/tools/tei/tei_all.xsd\n",
      "\tround   1: 232 changes\n",
      "Analysing ../schema/editem-letter.xsd\n",
      "Warning: tei:tei_model.divBottom.kind is not defined.\n",
      "Warning: tei:tei_model.divBottom.kind is not defined.\n",
      "\tround   1:  71 changes\n",
      "Warning: tei:tei_model.divBottom.kind is not defined.\n",
      "Warning: tei:tei_model.divBottom.kind is not defined.\n",
      "172 identical override(s)\n",
      "  2 changing override(s)\n",
      "\tartwork complex pure (added)\n",
      "\teventName complex mixed (added)\n",
      "INFO: Needs editem.xsd (exists)\n",
      "Analysing ~/github/annotation/textinfo/ti/tools/tei/tei_all.xsd\n",
      "\tround   1: 232 changes\n",
      "Analysing ../schema/editem-artworklist.xsd\n",
      "\tround   1:  21 changes\n",
      "\tround   2:   2 changes\n",
      " 29 identical override(s)\n",
      "  3 changing override(s)\n",
      "\tartwork complex pure (added)\n",
      "\tbibl mixed ==> pure\n",
      "\tcatRef pure ==> mixed\n",
      "Analysing ~/github/annotation/textinfo/ti/tools/tei/tei_all.xsd\n",
      "\tround   1: 232 changes\n",
      "Analysing ../schema/editem-biolist.xsd\n",
      "\tround   1:  34 changes\n",
      "\tround   2:   4 changes\n",
      " 38 identical override(s)\n",
      "  0 changing override(s)\n",
      "Analysing ~/github/annotation/textinfo/ti/tools/tei/tei_all.xsd\n",
      "\tround   1: 232 changes\n",
      "Analysing ../schema/editem-bibliolist.xsd\n",
      "\tround   1:  16 changes\n",
      " 26 identical override(s)\n",
      "  0 changing override(s)\n",
      "\tStart folder about\n",
      "\tStart folder letters\n",
      "\tStart folder apparatus\n",
      "4 editem-about file(s) ...\n",
      "\tValidating ...\n",
      "\tMaking inventory ...\n",
      "103 editem-letter file(s) ...\n",
      "\tValidating ...\n",
      "\tMaking inventory ...\n",
      "1 editem-artworklist file(s) ...\n",
      "\tValidating ...\n",
      "\tMaking inventory ...\n",
      "2 editem-bibliolist file(s) ...\n",
      "\tValidating ...\n",
      "\tMaking inventory ...\n",
      "1 editem-biolist file(s) ...\n",
      "\tValidating ...\n",
      "\tMaking inventory ...\n",
      "\n",
      "586 tag(s) type info written to ../newPipeline/israels/report/types.txt\n",
      "Validation OK\n",
      "0 pagebreaks without facs attribute.\n",
      "516 pagebreaks encountered.\n",
      "258 distinct scans referred to by pagebreaks.\n",
      "217 surfaces declared\n",
      "85 zones declared\n",
      "302 scans declared and mapped.\n"
     ]
    },
    {
     "name": "stderr",
     "output_type": "stream",
     "text": [
      "3 undeclared scans\n",
      "46 unused surfaces\n",
      "1 unused zone\n"
     ]
    },
    {
     "name": "stdout",
     "output_type": "stream",
     "text": [
      "0 processing instructions encountered.\n",
      "72 tags of which 0 with multiple namespaces written to ../newPipeline/israels/report/namespaces.txt\n",
      "365 info line(s) written to ../newPipeline/israels/report/elements.txt\n",
      "Refs written to ../newPipeline/israels/report/refs.txt\n",
      "\tresolvable:  664 in  664\n",
      "\tdangling:    299 in 2061\n",
      "\tALL:         963 in 2725 \n",
      "Ids written to ../newPipeline/israels/report/ids.txt\n",
      "\treferenced:  664 by  664\n",
      "\tnon-unique:    0\n",
      "\tunused:     3440\n",
      "\tALL:        4104 in 4104\n",
      "lb-parent info written to ../newPipeline/israels/report/lb-parents.txt\n"
     ]
    }
   ],
   "source": [
    "Tei.inventory(\"../schema\", f\"{BASE}/report\", carryon=True, verbose=1)"
   ]
  },
  {
   "cell_type": "markdown",
   "id": "2c36f78f-5121-418c-8e7f-be7bc1141ff6",
   "metadata": {},
   "source": [
    "# Step 5: Generate IIIF manifests"
   ]
  },
  {
   "cell_type": "code",
   "execution_count": 17,
   "id": "b1b7a6ee-e9f9-479f-b341-91c2f0cb4d26",
   "metadata": {},
   "outputs": [
    {
     "name": "stdout",
     "output_type": "stream",
     "text": [
      "No cover directory: ~/github/HuygensING/israels/None/covers\n",
      "Scan images taken from ~/github/HuygensING/israels/None\n",
      "IIIF settings read from ~/github/HuygensING/israels/config/iiif.yml\n",
      "Manifestlevel = file\n",
      "All generated urls are for a dev deployment on http:/localhost:8087\n"
     ]
    },
    {
     "name": "stderr",
     "output_type": "stream",
     "text": [
      "Size file not found: ~/github/HuygensING/israels/None/sizes_pages.tsv\n"
     ]
    },
    {
     "name": "stdout",
     "output_type": "stream",
     "text": [
      "Rotation file not found: ~/github/HuygensING/israels/None/rotation_pages.tsv\n",
      "Using facs file info file ~/github/HuygensING/israels/report/2025-07-02/facs.yml\n",
      "Using facs mapping file ~/github/HuygensING/israels/report/2025-07-02/facsMapping.yml\n",
      "Collections:\n",
      "     about with    4 files and    0 pages\n",
      "     intro with    1 files and    0 pages (excluded in config)\n",
      "   letters with  103 files and  510 pages\n",
      " apparatus with    4 files and    0 pages\n"
     ]
    }
   ],
   "source": [
    "II = IIIF(Tei.teiVersion, A, Tei.reportPath, prod=\"dev\", silent=False)"
   ]
  },
  {
   "cell_type": "code",
   "execution_count": null,
   "id": "54609919-1691-4dd3-bd83-ea917b987099",
   "metadata": {
    "scrolled": true
   },
   "outputs": [],
   "source": [
    "II.manifests()"
   ]
  }
 ],
 "metadata": {
  "kernelspec": {
   "display_name": "Python 3 (ipykernel)",
   "language": "python",
   "name": "python3"
  },
  "language_info": {
   "codemirror_mode": {
    "name": "ipython",
    "version": 3
   },
   "file_extension": ".py",
   "mimetype": "text/x-python",
   "name": "python",
   "nbconvert_exporter": "python",
   "pygments_lexer": "ipython3",
   "version": "3.13.5"
  }
 },
 "nbformat": 4,
 "nbformat_minor": 5
}
