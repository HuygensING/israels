{
 "cells": [
  {
   "cell_type": "markdown",
   "id": "fe2f175b-03c2-40d5-a556-5e110ce632d1",
   "metadata": {
    "editable": true,
    "slideshow": {
     "slide_type": ""
    },
    "tags": []
   },
   "source": [
    "# Get info from the xml\n",
    "\n",
    "We check the validity, make an inventory of elements and attributes.\n",
    "\n",
    "We collect page sequences with the scans and regions that pages identify.\n",
    "\n",
    "We generate IIIF manifests for the scans."
   ]
  },
  {
   "cell_type": "code",
   "execution_count": 1,
   "id": "ed2399a1-49c2-4182-b36f-bc33f4089208",
   "metadata": {},
   "outputs": [],
   "source": [
    "%load_ext autoreload\n",
    "%autoreload 2"
   ]
  },
  {
   "cell_type": "code",
   "execution_count": 2,
   "id": "f28f1de2-05e6-4586-a1a5-5559f2f3b220",
   "metadata": {},
   "outputs": [],
   "source": [
    "from ti.info.tei import TEI\n",
    "from ti.info.scans import Scans\n",
    "from ti.info.iiif import IIIF"
   ]
  },
  {
   "cell_type": "code",
   "execution_count": 3,
   "id": "0e20f559-c1da-4ca2-a812-205619b81c98",
   "metadata": {},
   "outputs": [],
   "source": [
    "BASE = \"../newPipeline/israels\""
   ]
  },
  {
   "cell_type": "markdown",
   "id": "5415a7dc-6d71-4a15-84fe-76ceb4579678",
   "metadata": {},
   "source": [
    "# Step 0: Scan ingest"
   ]
  },
  {
   "cell_type": "markdown",
   "id": "1a84a8b5-c491-4606-9d84-41eef3ba6259",
   "metadata": {},
   "source": [
    "To convert a directory with `.jpf` files to `.jpg` files do\n",
    "\n",
    "```\n",
    "cd directory\n",
    "mogrify -format jpg *.jpf\n",
    "```"
   ]
  },
  {
   "cell_type": "code",
   "execution_count": 4,
   "id": "85442291-e2e1-4603-8e57-0b07c075c70a",
   "metadata": {},
   "outputs": [
    {
     "name": "stdout",
     "output_type": "stream",
     "text": [
      "Source dir = ../scans\n",
      "scanprep settings read from ../newPipeline/israels/config/scans.yml\n"
     ]
    }
   ],
   "source": [
    "SC = Scans(\"../scans\", f\"{BASE}/config/scans.yml\", verbose=1, force=False)"
   ]
  },
  {
   "cell_type": "code",
   "execution_count": 5,
   "id": "fb1768f6-cfdf-4dc0-a544-4e4cd0d3502a",
   "metadata": {},
   "outputs": [
    {
     "name": "stdout",
     "output_type": "stream",
     "text": [
      "Initialized ../newPipeline/israels/scanInfo\n",
      "srcSubDirs=('illustrations', 'logo', 'pages')\n",
      "illustrations:\n",
      "\tAlready present: sizes and colorspaces files (illustrations)\n",
      "\tscans: 73\n",
      "logo:\n",
      "pages:\n",
      "\tAlready present: sizes and colorspaces files (pages)\n",
      "\tscans: 263\n"
     ]
    }
   ],
   "source": [
    "SC.process(f\"{BASE}/scanInfo\", force=None)"
   ]
  },
  {
   "cell_type": "code",
   "execution_count": 6,
   "id": "a4b137c7-60db-4a73-8180-882130a29075",
   "metadata": {},
   "outputs": [
    {
     "name": "stdout",
     "output_type": "stream",
     "text": [
      "Initialized ../newPipeline/israels/scanInfo\n",
      "srcSubDirs=('illustrations', 'logo', 'pages')\n",
      "illustrations:\n",
      "\t\tGet attributes of 73 scans (illustrations)\n",
      "\t\t\t100% done\n",
      "\tscans: 73\n",
      "logo:\n",
      "pages:\n",
      "\t\tGet attributes of 264 scans (pages)\n",
      "\t\t\t 38% done\n",
      "\t\t\t 76% done\n",
      "\t\t\t100% done\n",
      "\tscans: 263\n"
     ]
    }
   ],
   "source": [
    "SC.process(f\"{BASE}/scanInfo\", force=True)"
   ]
  },
  {
   "cell_type": "markdown",
   "id": "d3ccdd7e-6a97-4ade-bcc4-c3440a3b5284",
   "metadata": {},
   "source": [
    "# Step 1: Inventory"
   ]
  },
  {
   "cell_type": "code",
   "execution_count": 11,
   "id": "3924f2ea-8a1b-45c1-9814-4d4c14373bc2",
   "metadata": {},
   "outputs": [
    {
     "name": "stdout",
     "output_type": "stream",
     "text": [
      "section model is I\n"
     ]
    }
   ],
   "source": [
    "Tei = TEI(\"../tei/2025-10-07\", f\"{BASE}/config/tei.yml\", verbose=0)"
   ]
  },
  {
   "cell_type": "code",
   "execution_count": 12,
   "id": "e5abba52-fb30-4925-8f66-d24905119c1f",
   "metadata": {},
   "outputs": [
    {
     "name": "stdout",
     "output_type": "stream",
     "text": [
      "TEI to TF checking: ../tei/2025-10-07 => ../newPipeline/israels/report\n",
      "Processing instructions are treated\n",
      "XML validation will be performed\n",
      "Analysing ~/github/annotation/text-info/ti/tools/tei/tei_all.xsd\n",
      "\tround   1: 232 changes\n",
      "Analysing ~/github/annotation/text-info/ti/tools/tei/tei_all.xsd\n",
      "\tround   1: 232 changes\n",
      "Analysing ../schema/editem-about.xsd\n",
      "\tround   1:  52 changes\n",
      "118 identical override(s)\n",
      "  0 changing override(s)\n",
      "INFO: Needs editem.xsd (exists)\n",
      "Analysing ~/github/annotation/text-info/ti/tools/tei/tei_all.xsd\n",
      "\tround   1: 232 changes\n",
      "Analysing ../schema/editem-letter.xsd\n",
      "Warning: tei:tei_model.divBottom.kind is not defined.\n",
      "Warning: tei:tei_model.divBottom.kind is not defined.\n",
      "\tround   1:  71 changes\n",
      "Warning: tei:tei_model.divBottom.kind is not defined.\n",
      "Warning: tei:tei_model.divBottom.kind is not defined.\n",
      "172 identical override(s)\n",
      "  2 changing override(s)\n",
      "\tartwork complex pure (added)\n",
      "\teventName complex mixed (added)\n",
      "INFO: Needs editem.xsd (exists)\n",
      "Analysing ~/github/annotation/text-info/ti/tools/tei/tei_all.xsd\n",
      "\tround   1: 232 changes\n",
      "Analysing ../schema/editem-artworklist.xsd\n",
      "\tround   1:  21 changes\n",
      "\tround   2:   2 changes\n",
      " 29 identical override(s)\n",
      "  3 changing override(s)\n",
      "\tartwork complex pure (added)\n",
      "\tbibl mixed ==> pure\n",
      "\tcatRef pure ==> mixed\n",
      "Analysing ~/github/annotation/text-info/ti/tools/tei/tei_all.xsd\n",
      "\tround   1: 232 changes\n",
      "Analysing ../schema/editem-biolist.xsd\n",
      "\tround   1:  34 changes\n",
      "\tround   2:   4 changes\n",
      " 38 identical override(s)\n",
      "  0 changing override(s)\n",
      "Analysing ~/github/annotation/text-info/ti/tools/tei/tei_all.xsd\n",
      "\tround   1: 232 changes\n",
      "Analysing ../schema/editem-bibliolist.xsd\n",
      "\tround   1:  16 changes\n",
      " 26 identical override(s)\n",
      "  0 changing override(s)\n",
      "\tStart folder about\n",
      "\tStart folder intro\n",
      "\tStart folder letters\n",
      "\tStart folder apparatus\n",
      "4 editem-about file(s) ...\n",
      "\tValidating ...\n",
      "1 TEI file(s) ...\n",
      "\tValidating ...\n",
      "103 editem-letter file(s) ...\n",
      "\tValidating ...\n",
      "1 editem-artworklist file(s) ...\n",
      "\tValidating ...\n",
      "2 editem-bibliolist file(s) ...\n",
      "\tValidating ...\n",
      "1 editem-biolist file(s) ...\n",
      "\tValidating ...\n",
      "\n",
      "586 tag(s) type info written to ../newPipeline/israels/report/types.txt\n"
     ]
    },
    {
     "name": "stderr",
     "output_type": "stream",
     "text": [
      "255 validation error(s) in 2 file(s) written to ../newPipeline/israels/report/errors.txt\n"
     ]
    },
    {
     "name": "stdout",
     "output_type": "stream",
     "text": [
      "0 pagebreaks without facs attribute.\n",
      "602 pagebreaks encountered.\n",
      "301 distinct scans referred to by pagebreaks.\n",
      "260 surfaces declared\n",
      "148 zones declared\n",
      "408 scans declared and mapped.\n"
     ]
    },
    {
     "name": "stderr",
     "output_type": "stream",
     "text": [
      "99 unused surfaces\n",
      "8 unused zones\n"
     ]
    },
    {
     "name": "stdout",
     "output_type": "stream",
     "text": [
      "0 processing instructions encountered.\n",
      "72 tags of which 0 with multiple namespaces written to ../newPipeline/israels/report/namespaces.txt\n",
      "397 info line(s) written to ../newPipeline/israels/report/elements.txt\n",
      "Refs written to ../newPipeline/israels/report/refs.txt\n",
      "\tresolvable:  798 in  798\n",
      "\tdangling:    341 in 2561\n",
      "\tALL:        1139 in 3359 \n",
      "Ids written to ../newPipeline/israels/report/ids.txt\n",
      "\treferenced:  798 by  798\n",
      "\tnon-unique:    0\n",
      "\tunused:     4444\n",
      "\tALL:        5242 in 5242\n",
      "lb-parent info written to ../newPipeline/israels/report/lb-parents.txt\n"
     ]
    }
   ],
   "source": [
    "Tei.inventory(\"../schema\", f\"{BASE}/report\", carryon=True, verbose=1)"
   ]
  },
  {
   "cell_type": "markdown",
   "id": "2c36f78f-5121-418c-8e7f-be7bc1141ff6",
   "metadata": {},
   "source": [
    "# Step 3: Generate IIIF manifests"
   ]
  },
  {
   "cell_type": "code",
   "execution_count": 13,
   "id": "b1b7a6ee-e9f9-479f-b341-91c2f0cb4d26",
   "metadata": {},
   "outputs": [
    {
     "name": "stdout",
     "output_type": "stream",
     "text": [
      "iiif settings read from ../newPipeline/israels/config/iiif.yml\n",
      "Source information taken from ../newPipeline/israels/report\n"
     ]
    }
   ],
   "source": [
    "II = IIIF(f\"{BASE}/report\", f\"{BASE}/scanInfo\", f\"{BASE}/config/iiif.yml\", verbose=1)"
   ]
  },
  {
   "cell_type": "code",
   "execution_count": 14,
   "id": "54609919-1691-4dd3-bd83-ea917b987099",
   "metadata": {},
   "outputs": [
    {
     "name": "stdout",
     "output_type": "stream",
     "text": [
      "Parameters passed to manifest generation:\n",
      "\tbaseUri    = http:/localhost:8040\n",
      "\tiiifBaseUri = https:/tt-iiif.dev.diginfra.org\n",
      "\ttitle      = israels\n",
      "Values for the constants of the manifest generation:\n",
      "\tcanvasUrl  = [[baseUri]]/files/[[title]]/static/manifests/{folder}/{file}.json/canvas/[[title]]/pages/{page}\n",
      "\tcontext    = http:/iiif.io/api/presentation/3/context.json\n",
      "\text        = jpg\n",
      "\tiiifParams = /full/max/0/default\n",
      "\tiiifPath   = [[title]]\n",
      "\tiiifPathEsc = [[title]]|\n",
      "\tiiifRoot   = [[iiifBaseUri]]/iiif/3/[[title]]|\n",
      "\tiiifserver = [[iiifBaseUri]]\n",
      "\tlogoRoot   = [[baseUri]]/files/[[title]]/static/logo\n",
      "\tmanifestRoot = [[baseUri]]/files/[[title]]/static/manifests\n",
      "\tmanifestUrl = [[baseUri]]/files/[[title]]/static/manifests/{folder}/{file}.json\n",
      "\tpageUrl    = [[iiifBaseUri]]/iiif/3/[[title]]|pages|{page}.jpg/full/max/0/default.jpg\n",
      "\tprofile    = http:/iiif.io/api/image/3/level1.json\n",
      "\tprovHomepageId = https:/www.vangoghmuseum.nl/en\n",
      "\tprovHomepageLabel = Homepage of the Van Gogh Museum\n",
      "\tprovLogoHeight = 270\n",
      "\tprovLogoId = providerlogo.png\n",
      "\tprovLogoWidth = 288\n",
      "\tproviderId = https:/www.vangoghmuseum.nl\n",
      "\tproviderLabelEn = Van Gogh Museum\n",
      "\trightsCC0  = http:/creativecommons.org/publicdomain/zero/1.0\n",
      "\tserver     = [[baseUri]]\n",
      "Manifestlevel = file\n",
      "Excluded file items: = intro\n",
      "3 folders and 111 files, not counting exclusions\n",
      "Maximum dimensions: W = 8272 H = 8272\n",
      "Average dimensions: W = 7970 H = 6339\n",
      "Average deviation:  W =  536 H =  367\n",
      "No rotation files found in ../newPipeline/israels/scanInfo\n",
      "Using facs file info file ../newPipeline/israels/report/facs.yml\n",
      "Using facs mapping file ../newPipeline/israels/report/facsMapping.yml\n",
      "Folders:\n",
      "\tabout      with    4 files and    0 pages\n",
      "\tletters    with  103 files and  602 pages\n",
      "\tapparatus  with    4 files and    0 pages\n",
      "\ttotal occurrences of a missing file: 0\n",
      "103 IIIF manifests with 260 items for 602 pages generated in ../newPipeline/israels/manifests\n"
     ]
    }
   ],
   "source": [
    "II.manifests(\n",
    "    f\"{BASE}/manifests\",\n",
    "    title=\"israels\",\n",
    "    baseUri=\"http://localhost:8040\",\n",
    "    iiifBaseUri=\"https://tt-iiif.dev.diginfra.org\",\n",
    "    verbose=1,\n",
    ")"
   ]
  },
  {
   "cell_type": "code",
   "execution_count": null,
   "id": "6515e36f-06c9-4e01-8ae2-afab0a1fc842",
   "metadata": {},
   "outputs": [],
   "source": []
  }
 ],
 "metadata": {
  "kernelspec": {
   "display_name": "Python 3 (ipykernel)",
   "language": "python",
   "name": "python3"
  },
  "language_info": {
   "codemirror_mode": {
    "name": "ipython",
    "version": 3
   },
   "file_extension": ".py",
   "mimetype": "text/x-python",
   "name": "python",
   "nbconvert_exporter": "python",
   "pygments_lexer": "ipython3",
   "version": "3.13.5"
  }
 },
 "nbformat": 4,
 "nbformat_minor": 5
}
